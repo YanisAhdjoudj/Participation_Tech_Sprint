{
 "cells": [
  {
   "cell_type": "markdown",
   "id": "e64f8ad1",
   "metadata": {},
   "source": [
    "# Programme de génération de requetes\n",
    "\n",
    "Installer request :  <font color=red>pip install requests</font>  ou <font color=red>conda install requests</font>"
   ]
  },
  {
   "cell_type": "code",
   "execution_count": 14,
   "id": "8cabc49d",
   "metadata": {},
   "outputs": [
    {
     "name": "stdout",
     "output_type": "stream",
     "text": [
      "{ \"httpCode\":\"404\", \"httpMessage\":\"Not Found\", \"moreInformation\":\"API not found for requested URI\" }\n"
     ]
    }
   ],
   "source": [
    "# On import les packages néssécaires\n",
    "import requests\n",
    "import json\n",
    "\n",
    "# On définie le lien de l'API\n",
    "API_path='https://api.webstat.banque-france.fr'\n",
    "\n",
    "# On définie les paramètres de la requete \n",
    "parameter = {\"rel_rhy\":\"jingle\"}\n",
    "\n",
    "\n",
    "request = requests.get(API_path+'/catalogue')\n",
    "print(request.text)\n",
    "\n",
    "rhyme_json = request.json()"
   ]
  },
  {
   "cell_type": "markdown",
   "id": "96787120",
   "metadata": {},
   "source": [
    "## Exemple avec l'API de la Banque de France"
   ]
  },
  {
   "cell_type": "code",
   "execution_count": 32,
   "id": "3524d0fd",
   "metadata": {},
   "outputs": [
    {
     "name": "stdout",
     "output_type": "stream",
     "text": [
      "[{\"name\":\"SC1\",\"description\":\"Emission et détention  de titres - France\",\"lastUpdate\":\"2021-06-21 19:29:46.0\"},{\"name\":\"DIREN\",\"description\":\"Observatoire des Entreprises\",\"lastUpdate\":\"2021-06-23 08:33:40.0\"},{\"name\":\"STS\",\"description\":\"Coûts salariaux, Emploi, Chômage\",\"lastUpdate\":\"2021-06-21 19:45:49.0\"},{\"name\":\"MIR1\",\"description\":\"Taux d'intérêt - France\",\"lastUpdate\":\"2021-06-21 19:36:18.0\"},{\"name\":\"CPP\",\"description\":\"Prix immobilier commercial\",\"lastUpdate\":\"2021-06-21 19:00:29.0\"},{\"name\":\"CFT\",\"description\":\"Comptes financiers trimestriels\",\"lastUpdate\":\"2021-06-21 19:06:00.0\"},{\"name\":\"FM\",\"description\":\"Marché financier, taux\",\"lastUpdate\":\"2021-06-25 13:34:24.0\"},{\"name\":\"CONJ2\",\"description\":\"Enquêtes de Conjoncture Régionales\",\"lastUpdate\":\"2021-06-21 20:04:02.0\"},{\"name\":\"SA\",\"description\":\"Comptes Nationaux SA\",\"lastUpdate\":\"2021-06-21 20:04:02.0\"},{\"name\":\"MNA\",\"description\":\"Comptes nationaux agrégats principaux\",\"lastUpdate\":\"2021-06-21 19:22:07.0\"},{\"name\":\"MIR\",\"description\":\"Taux d'intérêt - Zone euro\",\"lastUpdate\":\"2021-06-21 19:29:46.0\"},{\"name\":\"CONJ\",\"description\":\"Enquêtes de Conjoncture Nationales\",\"lastUpdate\":\"2021-06-21 19:45:49.0\"},{\"name\":\"IVF1\",\"description\":\"OPC non monétaires\",\"lastUpdate\":\"2021-06-21 19:36:18.0\"},{\"name\":\"ESTR\",\"description\":\"Taux à court terme de la zone euro (€STR)\",\"lastUpdate\":\"2021-06-25 09:01:40.0\"},{\"name\":\"AME\",\"description\":\"Macro économie - Zone euro\",\"lastUpdate\":\"2021-06-21 19:29:46.0\"},{\"name\":\"FCI\",\"description\":\"Indice des conditions financières de la Banque de France (ICF BdF)\",\"lastUpdate\":\"2021-06-21 18:55:29.0\"},{\"name\":\"ECOFI\",\"description\":\"ECOFIN : Économie et Finance\",\"lastUpdate\":\"2021-06-25 14:04:43.0\"},{\"name\":\"CDIS\",\"description\":\"Investissements directs - CDIS - SDDS\",\"lastUpdate\":\"2021-06-21 19:22:07.0\"},{\"name\":\"CFANF\",\"description\":\"Comptes financiers des ANF\",\"lastUpdate\":\"2021-06-21 19:22:07.0\"},{\"name\":\"CFTDC\",\"description\":\"CEFIT : Crédits et Dépôts en régions\",\"lastUpdate\":\"2021-06-23 10:02:24.0\"},{\"name\":\"BPM6\",\"description\":\"Balance des paiements - 6ème manuel\",\"lastUpdate\":\"2021-06-21 18:55:29.0\"},{\"name\":\"EXR\",\"description\":\"Taux de change\",\"lastUpdate\":\"2021-06-25 17:17:02.0\"},{\"name\":\"CNF\",\"description\":\"Comptes nationaux financiers\",\"lastUpdate\":\"2021-06-21 20:22:26.0\"},{\"name\":\"FATSO\",\"description\":\"Implantation des groupes français à l'étranger\",\"lastUpdate\":\"2021-06-21 19:22:07.0\"},{\"name\":\"ICP\",\"description\":\"Inflation\",\"lastUpdate\":\"2021-06-21 18:43:10.0\"},{\"name\":\"SEC\",\"description\":\"Emissions de titres - Zone Euro\",\"lastUpdate\":\"2021-06-21 19:53:27.0\"},{\"name\":\"ESA\",\"description\":\"Comptes nationaux ESA95\",\"lastUpdate\":\"2021-06-21 19:29:46.0\"},{\"name\":\"FTID\",\"description\":\"Flux trimestriels d'investissements directs\",\"lastUpdate\":\"2021-06-25 15:29:17.0\"},{\"name\":\"BLS\",\"description\":\"Enquête auprès des banques sur la distribution du crédit\",\"lastUpdate\":\"2021-06-21 19:29:46.0\"},{\"name\":\"CEFIT\",\"description\":\"Crédits et Dépôts en régions\",\"lastUpdate\":\"2021-06-21 19:06:00.0\"},{\"name\":\"OFC\",\"description\":\"Comptes des autres sociétés financières\",\"lastUpdate\":\"2021-06-21 19:06:00.0\"},{\"name\":\"QFAGG\",\"description\":\"Comptes financiers trimestriels des Administrations publiques\",\"lastUpdate\":\"2021-06-21 18:55:29.0\"},{\"name\":\"TCN2\",\"description\":\"Marché des TCN (TCN2)\",\"lastUpdate\":\"2021-06-25 12:02:32.0\"},{\"name\":\"SAFE\",\"description\":\"Accès au financement des PME\",\"lastUpdate\":\"2021-06-21 19:53:27.0\"},{\"name\":\"DSE\",\"description\":\"Titres de dette\",\"lastUpdate\":\"2021-06-21 18:48:37.0\"},{\"name\":\"BSI\",\"description\":\"Agrégats monétaires - Zone euro\",\"lastUpdate\":\"2021-06-25 17:37:38.0\"},{\"name\":\"PME\",\"description\":\"Crédits aux PME\",\"lastUpdate\":\"2021-06-21 19:53:27.0\"},{\"name\":\"ICB\",\"description\":\"Actif et passif des assurances\",\"lastUpdate\":\"2021-06-21 20:22:26.0\"},{\"name\":\"ENDET\",\"description\":\"Comptes financiers - Endettement des ANF\",\"lastUpdate\":\"2021-06-21 19:53:27.0\"},{\"name\":\"RA_T\",\"description\":\"Réserves de change\",\"lastUpdate\":\"2021-06-22 09:12:29.0\"},{\"name\":\"GST\",\"description\":\"Finances publiques\",\"lastUpdate\":\"2021-06-21 19:53:27.0\"},{\"name\":\"RPP\",\"description\":\"Prix de l'immobilier\",\"lastUpdate\":\"2021-06-21 19:22:07.0\"},{\"name\":\"DET\",\"description\":\"Détention par les non-résidents\",\"lastUpdate\":\"2021-06-25 13:12:23.0\"},{\"name\":\"CONS\",\"description\":\"Détention de titres\",\"lastUpdate\":\"2021-06-21 19:06:00.0\"},{\"name\":\"BSI1\",\"description\":\"Agrégats monétaires - France\",\"lastUpdate\":\"2021-06-25 16:13:36.0\"}]\n"
     ]
    }
   ],
   "source": [
    "# On défini le lien de l'API\n",
    "API_path='https://api.webstat.banque-france.fr'\n",
    "\n",
    "# On défini le headers pour l'authentification \n",
    "headers = {'X-IBM-Client-Id': \"5973a717-625f-423f-8f2d-58ac0cae55f5\",'accept': \"application/json\"}\n",
    "\n",
    "# On fait notre première requete \n",
    "request = requests.get(API_path+'/webstat-fr/v1/catalogue?format=json', headers=headers)\n",
    "\n",
    "# On l'affiche en texte\n",
    "print(request.text)"
   ]
  },
  {
   "cell_type": "code",
   "execution_count": 25,
   "id": "c324ece7",
   "metadata": {},
   "outputs": [
    {
     "name": "stdout",
     "output_type": "stream",
     "text": [
      "{ \"httpCode\":\"401\", \"httpMessage\":\"Unauthorized\", \"moreInformation\":\"Invalid client id or secret.\" }\n"
     ]
    }
   ],
   "source": [
    "import http.client\n",
    "\n",
    "conn = http.client.HTTPSConnection(\"api.webstat.banque-france.fr\")\n",
    "\n",
    "headers = { 'accept': \"application/json\" }\n",
    "\n",
    "conn.request(\"GET\", \"/webstat-fr/v1/catalogue?client_id=O5jG4bH6lO3tN6kI4dQ7lI6wG7nL6uD7pQ4fB6aM1tR0sQ8bD6&format=json\", headers=headers)\n",
    "\n",
    "res = conn.getresponse()\n",
    "data = res.read()\n",
    "\n",
    "print(data.decode(\"utf-8\"))"
   ]
  },
  {
   "cell_type": "code",
   "execution_count": 27,
   "id": "c2170648",
   "metadata": {},
   "outputs": [],
   "source": [
    "import pandas as pd\n",
    "import requests\n",
    "import json\n",
    "\n",
    "response = requests.get('https://www.quandl.com/api/v3/datasets/FSE/BDT_X')\n"
   ]
  },
  {
   "cell_type": "code",
   "execution_count": 28,
   "id": "2002d6dc",
   "metadata": {},
   "outputs": [
    {
     "ename": "JSONDecodeError",
     "evalue": "Expecting value: line 1 column 1 (char 0)",
     "output_type": "error",
     "traceback": [
      "\u001b[1;31m---------------------------------------------------------------------------\u001b[0m",
      "\u001b[1;31mJSONDecodeError\u001b[0m                           Traceback (most recent call last)",
      "\u001b[1;32m<ipython-input-28-b135ab090600>\u001b[0m in \u001b[0;36m<module>\u001b[1;34m\u001b[0m\n\u001b[1;32m----> 1\u001b[1;33m \u001b[0mdictionary\u001b[0m \u001b[1;33m=\u001b[0m \u001b[0mjson\u001b[0m\u001b[1;33m.\u001b[0m\u001b[0mdumps\u001b[0m\u001b[1;33m(\u001b[0m\u001b[0mresponse\u001b[0m\u001b[1;33m.\u001b[0m\u001b[0mjson\u001b[0m\u001b[1;33m(\u001b[0m\u001b[1;33m)\u001b[0m\u001b[1;33m,\u001b[0m \u001b[0msort_keys\u001b[0m \u001b[1;33m=\u001b[0m \u001b[1;32mTrue\u001b[0m\u001b[1;33m,\u001b[0m \u001b[0mindent\u001b[0m \u001b[1;33m=\u001b[0m \u001b[1;36m4\u001b[0m\u001b[1;33m)\u001b[0m\u001b[1;33m\u001b[0m\u001b[1;33m\u001b[0m\u001b[0m\n\u001b[0m\u001b[0;32m      2\u001b[0m \u001b[0mprint\u001b[0m\u001b[1;33m(\u001b[0m\u001b[0mdictionary\u001b[0m\u001b[1;33m)\u001b[0m\u001b[1;33m\u001b[0m\u001b[1;33m\u001b[0m\u001b[0m\n",
      "\u001b[1;32m~\\anaconda3\\lib\\site-packages\\requests\\models.py\u001b[0m in \u001b[0;36mjson\u001b[1;34m(self, **kwargs)\u001b[0m\n\u001b[0;32m    898\u001b[0m                     \u001b[1;31m# used.\u001b[0m\u001b[1;33m\u001b[0m\u001b[1;33m\u001b[0m\u001b[1;33m\u001b[0m\u001b[0m\n\u001b[0;32m    899\u001b[0m                     \u001b[1;32mpass\u001b[0m\u001b[1;33m\u001b[0m\u001b[1;33m\u001b[0m\u001b[0m\n\u001b[1;32m--> 900\u001b[1;33m         \u001b[1;32mreturn\u001b[0m \u001b[0mcomplexjson\u001b[0m\u001b[1;33m.\u001b[0m\u001b[0mloads\u001b[0m\u001b[1;33m(\u001b[0m\u001b[0mself\u001b[0m\u001b[1;33m.\u001b[0m\u001b[0mtext\u001b[0m\u001b[1;33m,\u001b[0m \u001b[1;33m**\u001b[0m\u001b[0mkwargs\u001b[0m\u001b[1;33m)\u001b[0m\u001b[1;33m\u001b[0m\u001b[1;33m\u001b[0m\u001b[0m\n\u001b[0m\u001b[0;32m    901\u001b[0m \u001b[1;33m\u001b[0m\u001b[0m\n\u001b[0;32m    902\u001b[0m     \u001b[1;33m@\u001b[0m\u001b[0mproperty\u001b[0m\u001b[1;33m\u001b[0m\u001b[1;33m\u001b[0m\u001b[0m\n",
      "\u001b[1;32m~\\anaconda3\\lib\\json\\__init__.py\u001b[0m in \u001b[0;36mloads\u001b[1;34m(s, cls, object_hook, parse_float, parse_int, parse_constant, object_pairs_hook, **kw)\u001b[0m\n\u001b[0;32m    355\u001b[0m             \u001b[0mparse_int\u001b[0m \u001b[1;32mis\u001b[0m \u001b[1;32mNone\u001b[0m \u001b[1;32mand\u001b[0m \u001b[0mparse_float\u001b[0m \u001b[1;32mis\u001b[0m \u001b[1;32mNone\u001b[0m \u001b[1;32mand\u001b[0m\u001b[1;33m\u001b[0m\u001b[1;33m\u001b[0m\u001b[0m\n\u001b[0;32m    356\u001b[0m             parse_constant is None and object_pairs_hook is None and not kw):\n\u001b[1;32m--> 357\u001b[1;33m         \u001b[1;32mreturn\u001b[0m \u001b[0m_default_decoder\u001b[0m\u001b[1;33m.\u001b[0m\u001b[0mdecode\u001b[0m\u001b[1;33m(\u001b[0m\u001b[0ms\u001b[0m\u001b[1;33m)\u001b[0m\u001b[1;33m\u001b[0m\u001b[1;33m\u001b[0m\u001b[0m\n\u001b[0m\u001b[0;32m    358\u001b[0m     \u001b[1;32mif\u001b[0m \u001b[0mcls\u001b[0m \u001b[1;32mis\u001b[0m \u001b[1;32mNone\u001b[0m\u001b[1;33m:\u001b[0m\u001b[1;33m\u001b[0m\u001b[1;33m\u001b[0m\u001b[0m\n\u001b[0;32m    359\u001b[0m         \u001b[0mcls\u001b[0m \u001b[1;33m=\u001b[0m \u001b[0mJSONDecoder\u001b[0m\u001b[1;33m\u001b[0m\u001b[1;33m\u001b[0m\u001b[0m\n",
      "\u001b[1;32m~\\anaconda3\\lib\\json\\decoder.py\u001b[0m in \u001b[0;36mdecode\u001b[1;34m(self, s, _w)\u001b[0m\n\u001b[0;32m    335\u001b[0m \u001b[1;33m\u001b[0m\u001b[0m\n\u001b[0;32m    336\u001b[0m         \"\"\"\n\u001b[1;32m--> 337\u001b[1;33m         \u001b[0mobj\u001b[0m\u001b[1;33m,\u001b[0m \u001b[0mend\u001b[0m \u001b[1;33m=\u001b[0m \u001b[0mself\u001b[0m\u001b[1;33m.\u001b[0m\u001b[0mraw_decode\u001b[0m\u001b[1;33m(\u001b[0m\u001b[0ms\u001b[0m\u001b[1;33m,\u001b[0m \u001b[0midx\u001b[0m\u001b[1;33m=\u001b[0m\u001b[0m_w\u001b[0m\u001b[1;33m(\u001b[0m\u001b[0ms\u001b[0m\u001b[1;33m,\u001b[0m \u001b[1;36m0\u001b[0m\u001b[1;33m)\u001b[0m\u001b[1;33m.\u001b[0m\u001b[0mend\u001b[0m\u001b[1;33m(\u001b[0m\u001b[1;33m)\u001b[0m\u001b[1;33m)\u001b[0m\u001b[1;33m\u001b[0m\u001b[1;33m\u001b[0m\u001b[0m\n\u001b[0m\u001b[0;32m    338\u001b[0m         \u001b[0mend\u001b[0m \u001b[1;33m=\u001b[0m \u001b[0m_w\u001b[0m\u001b[1;33m(\u001b[0m\u001b[0ms\u001b[0m\u001b[1;33m,\u001b[0m \u001b[0mend\u001b[0m\u001b[1;33m)\u001b[0m\u001b[1;33m.\u001b[0m\u001b[0mend\u001b[0m\u001b[1;33m(\u001b[0m\u001b[1;33m)\u001b[0m\u001b[1;33m\u001b[0m\u001b[1;33m\u001b[0m\u001b[0m\n\u001b[0;32m    339\u001b[0m         \u001b[1;32mif\u001b[0m \u001b[0mend\u001b[0m \u001b[1;33m!=\u001b[0m \u001b[0mlen\u001b[0m\u001b[1;33m(\u001b[0m\u001b[0ms\u001b[0m\u001b[1;33m)\u001b[0m\u001b[1;33m:\u001b[0m\u001b[1;33m\u001b[0m\u001b[1;33m\u001b[0m\u001b[0m\n",
      "\u001b[1;32m~\\anaconda3\\lib\\json\\decoder.py\u001b[0m in \u001b[0;36mraw_decode\u001b[1;34m(self, s, idx)\u001b[0m\n\u001b[0;32m    353\u001b[0m             \u001b[0mobj\u001b[0m\u001b[1;33m,\u001b[0m \u001b[0mend\u001b[0m \u001b[1;33m=\u001b[0m \u001b[0mself\u001b[0m\u001b[1;33m.\u001b[0m\u001b[0mscan_once\u001b[0m\u001b[1;33m(\u001b[0m\u001b[0ms\u001b[0m\u001b[1;33m,\u001b[0m \u001b[0midx\u001b[0m\u001b[1;33m)\u001b[0m\u001b[1;33m\u001b[0m\u001b[1;33m\u001b[0m\u001b[0m\n\u001b[0;32m    354\u001b[0m         \u001b[1;32mexcept\u001b[0m \u001b[0mStopIteration\u001b[0m \u001b[1;32mas\u001b[0m \u001b[0merr\u001b[0m\u001b[1;33m:\u001b[0m\u001b[1;33m\u001b[0m\u001b[1;33m\u001b[0m\u001b[0m\n\u001b[1;32m--> 355\u001b[1;33m             \u001b[1;32mraise\u001b[0m \u001b[0mJSONDecodeError\u001b[0m\u001b[1;33m(\u001b[0m\u001b[1;34m\"Expecting value\"\u001b[0m\u001b[1;33m,\u001b[0m \u001b[0ms\u001b[0m\u001b[1;33m,\u001b[0m \u001b[0merr\u001b[0m\u001b[1;33m.\u001b[0m\u001b[0mvalue\u001b[0m\u001b[1;33m)\u001b[0m \u001b[1;32mfrom\u001b[0m \u001b[1;32mNone\u001b[0m\u001b[1;33m\u001b[0m\u001b[1;33m\u001b[0m\u001b[0m\n\u001b[0m\u001b[0;32m    356\u001b[0m         \u001b[1;32mreturn\u001b[0m \u001b[0mobj\u001b[0m\u001b[1;33m,\u001b[0m \u001b[0mend\u001b[0m\u001b[1;33m\u001b[0m\u001b[1;33m\u001b[0m\u001b[0m\n",
      "\u001b[1;31mJSONDecodeError\u001b[0m: Expecting value: line 1 column 1 (char 0)"
     ]
    }
   ],
   "source": [
    "\n",
    "dictionary = json.dumps(response.json(), sort_keys = True, indent = 4)\n",
    "print(dictionary)"
   ]
  },
  {
   "cell_type": "code",
   "execution_count": 31,
   "id": "e2f8d1dd",
   "metadata": {},
   "outputs": [
    {
     "name": "stdout",
     "output_type": "stream",
     "text": [
      "[{\"name\":\"SC1\",\"description\":\"Emission et détention  de titres - France\",\"lastUpdate\":\"2021-06-21 19:29:46.0\"},{\"name\":\"DIREN\",\"description\":\"Observatoire des Entreprises\",\"lastUpdate\":\"2021-06-23 08:33:40.0\"},{\"name\":\"STS\",\"description\":\"Coûts salariaux, Emploi, Chômage\",\"lastUpdate\":\"2021-06-21 19:45:49.0\"},{\"name\":\"MIR1\",\"description\":\"Taux d'intérêt - France\",\"lastUpdate\":\"2021-06-21 19:36:18.0\"},{\"name\":\"CPP\",\"description\":\"Prix immobilier commercial\",\"lastUpdate\":\"2021-06-21 19:00:29.0\"},{\"name\":\"CFT\",\"description\":\"Comptes financiers trimestriels\",\"lastUpdate\":\"2021-06-21 19:06:00.0\"},{\"name\":\"FM\",\"description\":\"Marché financier, taux\",\"lastUpdate\":\"2021-06-25 13:34:24.0\"},{\"name\":\"CONJ2\",\"description\":\"Enquêtes de Conjoncture Régionales\",\"lastUpdate\":\"2021-06-21 20:04:02.0\"},{\"name\":\"SA\",\"description\":\"Comptes Nationaux SA\",\"lastUpdate\":\"2021-06-21 20:04:02.0\"},{\"name\":\"MNA\",\"description\":\"Comptes nationaux agrégats principaux\",\"lastUpdate\":\"2021-06-21 19:22:07.0\"},{\"name\":\"MIR\",\"description\":\"Taux d'intérêt - Zone euro\",\"lastUpdate\":\"2021-06-21 19:29:46.0\"},{\"name\":\"CONJ\",\"description\":\"Enquêtes de Conjoncture Nationales\",\"lastUpdate\":\"2021-06-21 19:45:49.0\"},{\"name\":\"IVF1\",\"description\":\"OPC non monétaires\",\"lastUpdate\":\"2021-06-21 19:36:18.0\"},{\"name\":\"ESTR\",\"description\":\"Taux à court terme de la zone euro (€STR)\",\"lastUpdate\":\"2021-06-25 09:01:40.0\"},{\"name\":\"AME\",\"description\":\"Macro économie - Zone euro\",\"lastUpdate\":\"2021-06-21 19:29:46.0\"},{\"name\":\"FCI\",\"description\":\"Indice des conditions financières de la Banque de France (ICF BdF)\",\"lastUpdate\":\"2021-06-21 18:55:29.0\"},{\"name\":\"ECOFI\",\"description\":\"ECOFIN : Économie et Finance\",\"lastUpdate\":\"2021-06-25 14:04:43.0\"},{\"name\":\"CDIS\",\"description\":\"Investissements directs - CDIS - SDDS\",\"lastUpdate\":\"2021-06-21 19:22:07.0\"},{\"name\":\"CFANF\",\"description\":\"Comptes financiers des ANF\",\"lastUpdate\":\"2021-06-21 19:22:07.0\"},{\"name\":\"CFTDC\",\"description\":\"CEFIT : Crédits et Dépôts en régions\",\"lastUpdate\":\"2021-06-23 10:02:24.0\"},{\"name\":\"BPM6\",\"description\":\"Balance des paiements - 6ème manuel\",\"lastUpdate\":\"2021-06-21 18:55:29.0\"},{\"name\":\"EXR\",\"description\":\"Taux de change\",\"lastUpdate\":\"2021-06-25 17:17:02.0\"},{\"name\":\"CNF\",\"description\":\"Comptes nationaux financiers\",\"lastUpdate\":\"2021-06-21 20:22:26.0\"},{\"name\":\"FATSO\",\"description\":\"Implantation des groupes français à l'étranger\",\"lastUpdate\":\"2021-06-21 19:22:07.0\"},{\"name\":\"ICP\",\"description\":\"Inflation\",\"lastUpdate\":\"2021-06-21 18:43:10.0\"},{\"name\":\"SEC\",\"description\":\"Emissions de titres - Zone Euro\",\"lastUpdate\":\"2021-06-21 19:53:27.0\"},{\"name\":\"ESA\",\"description\":\"Comptes nationaux ESA95\",\"lastUpdate\":\"2021-06-21 19:29:46.0\"},{\"name\":\"FTID\",\"description\":\"Flux trimestriels d'investissements directs\",\"lastUpdate\":\"2021-06-25 15:29:17.0\"},{\"name\":\"BLS\",\"description\":\"Enquête auprès des banques sur la distribution du crédit\",\"lastUpdate\":\"2021-06-21 19:29:46.0\"},{\"name\":\"CEFIT\",\"description\":\"Crédits et Dépôts en régions\",\"lastUpdate\":\"2021-06-21 19:06:00.0\"},{\"name\":\"OFC\",\"description\":\"Comptes des autres sociétés financières\",\"lastUpdate\":\"2021-06-21 19:06:00.0\"},{\"name\":\"QFAGG\",\"description\":\"Comptes financiers trimestriels des Administrations publiques\",\"lastUpdate\":\"2021-06-21 18:55:29.0\"},{\"name\":\"TCN2\",\"description\":\"Marché des TCN (TCN2)\",\"lastUpdate\":\"2021-06-25 12:02:32.0\"},{\"name\":\"SAFE\",\"description\":\"Accès au financement des PME\",\"lastUpdate\":\"2021-06-21 19:53:27.0\"},{\"name\":\"DSE\",\"description\":\"Titres de dette\",\"lastUpdate\":\"2021-06-21 18:48:37.0\"},{\"name\":\"BSI\",\"description\":\"Agrégats monétaires - Zone euro\",\"lastUpdate\":\"2021-06-25 17:37:38.0\"},{\"name\":\"PME\",\"description\":\"Crédits aux PME\",\"lastUpdate\":\"2021-06-21 19:53:27.0\"},{\"name\":\"ICB\",\"description\":\"Actif et passif des assurances\",\"lastUpdate\":\"2021-06-21 20:22:26.0\"},{\"name\":\"ENDET\",\"description\":\"Comptes financiers - Endettement des ANF\",\"lastUpdate\":\"2021-06-21 19:53:27.0\"},{\"name\":\"RA_T\",\"description\":\"Réserves de change\",\"lastUpdate\":\"2021-06-22 09:12:29.0\"},{\"name\":\"GST\",\"description\":\"Finances publiques\",\"lastUpdate\":\"2021-06-21 19:53:27.0\"},{\"name\":\"RPP\",\"description\":\"Prix de l'immobilier\",\"lastUpdate\":\"2021-06-21 19:22:07.0\"},{\"name\":\"DET\",\"description\":\"Détention par les non-résidents\",\"lastUpdate\":\"2021-06-25 13:12:23.0\"},{\"name\":\"CONS\",\"description\":\"Détention de titres\",\"lastUpdate\":\"2021-06-21 19:06:00.0\"},{\"name\":\"BSI1\",\"description\":\"Agrégats monétaires - France\",\"lastUpdate\":\"2021-06-25 16:13:36.0\"}]\n"
     ]
    }
   ],
   "source": [
    "import http.client\n",
    "\n",
    "conn = http.client.HTTPSConnection(\"api.webstat.banque-france.fr\")\n",
    "\n",
    "headers = {\n",
    "    'X-IBM-Client-Id': \"5973a717-625f-423f-8f2d-58ac0cae55f5\",\n",
    "    'accept': \"application/json\"\n",
    "    }\n",
    "\n",
    "conn.request(\"GET\", \"/webstat-fr/v1/catalogue?format=json\", headers=headers)\n",
    "\n",
    "res = conn.getresponse()\n",
    "data = res.read()\n",
    "\n",
    "print(data.decode(\"utf-8\"))"
   ]
  }
 ],
 "metadata": {
  "kernelspec": {
   "display_name": "Python 3",
   "language": "python",
   "name": "python3"
  },
  "language_info": {
   "codemirror_mode": {
    "name": "ipython",
    "version": 3
   },
   "file_extension": ".py",
   "mimetype": "text/x-python",
   "name": "python",
   "nbconvert_exporter": "python",
   "pygments_lexer": "ipython3",
   "version": "3.8.5"
  }
 },
 "nbformat": 4,
 "nbformat_minor": 5
}
