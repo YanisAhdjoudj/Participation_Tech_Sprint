{
 "cells": [
  {
   "cell_type": "markdown",
   "id": "472d2be8",
   "metadata": {},
   "source": [
    "# Tech Sprint 2021 : Defi explicabilité"
   ]
  },
  {
   "cell_type": "markdown",
   "id": "34801b2a",
   "metadata": {},
   "source": [
    "## 1) présentation du défi "
   ]
  },
  {
   "cell_type": "code",
   "execution_count": null,
   "id": "ebf8f535",
   "metadata": {},
   "outputs": [],
   "source": []
  },
  {
   "cell_type": "markdown",
   "id": "549abf63",
   "metadata": {},
   "source": [
    "## 2) Récupération des données"
   ]
  },
  {
   "cell_type": "code",
   "execution_count": null,
   "id": "ecf9e547",
   "metadata": {},
   "outputs": [],
   "source": []
  },
  {
   "cell_type": "markdown",
   "id": "192b8107",
   "metadata": {},
   "source": [
    "## 3) Préparation des données "
   ]
  },
  {
   "cell_type": "code",
   "execution_count": null,
   "id": "02b10462",
   "metadata": {},
   "outputs": [],
   "source": []
  },
  {
   "cell_type": "markdown",
   "id": "dc1ebd6d",
   "metadata": {},
   "source": [
    "## 4) Interprétation"
   ]
  },
  {
   "cell_type": "code",
   "execution_count": null,
   "id": "5ada8984",
   "metadata": {},
   "outputs": [],
   "source": []
  }
 ],
 "metadata": {
  "kernelspec": {
   "display_name": "Python 3",
   "language": "python",
   "name": "python3"
  },
  "language_info": {
   "codemirror_mode": {
    "name": "ipython",
    "version": 3
   },
   "file_extension": ".py",
   "mimetype": "text/x-python",
   "name": "python",
   "nbconvert_exporter": "python",
   "pygments_lexer": "ipython3",
   "version": "3.8.5"
  }
 },
 "nbformat": 4,
 "nbformat_minor": 5
}
